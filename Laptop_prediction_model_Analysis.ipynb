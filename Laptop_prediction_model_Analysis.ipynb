{
 "cells": [
  {
   "cell_type": "markdown",
   "id": "c7c10286",
   "metadata": {},
   "source": [
    "## Step 1"
   ]
  },
  {
   "cell_type": "markdown",
   "id": "4b1fffed",
   "metadata": {},
   "source": [
    "### PROBLEM STATEMENT:"
   ]
  },
  {
   "cell_type": "markdown",
   "id": "bac89320",
   "metadata": {},
   "source": [
    "Provide pricing recommendations to Elon Musk for the laptop market based on Data Analysis and Mining skills on the given Data Set."
   ]
  },
  {
   "cell_type": "code",
   "execution_count": 1,
   "id": "ec82439e",
   "metadata": {},
   "outputs": [],
   "source": [
    "import pandas as pd\n",
    "import numpy as np\n",
    "import matplotlib.pyplot as plt\n",
    "import seaborn as sns\n",
    "import re\n",
    "import warnings\n",
    "warnings.filterwarnings('ignore')"
   ]
  },
  {
   "cell_type": "code",
   "execution_count": 2,
   "id": "5125163e",
   "metadata": {},
   "outputs": [
    {
     "data": {
      "text/html": [
       "<div>\n",
       "<style scoped>\n",
       "    .dataframe tbody tr th:only-of-type {\n",
       "        vertical-align: middle;\n",
       "    }\n",
       "\n",
       "    .dataframe tbody tr th {\n",
       "        vertical-align: top;\n",
       "    }\n",
       "\n",
       "    .dataframe thead th {\n",
       "        text-align: right;\n",
       "    }\n",
       "</style>\n",
       "<table border=\"1\" class=\"dataframe\">\n",
       "  <thead>\n",
       "    <tr style=\"text-align: right;\">\n",
       "      <th></th>\n",
       "      <th>Product</th>\n",
       "      <th>Rating</th>\n",
       "      <th>MRP</th>\n",
       "      <th>Feature</th>\n",
       "    </tr>\n",
       "  </thead>\n",
       "  <tbody>\n",
       "    <tr>\n",
       "      <th>0</th>\n",
       "      <td>Lenovo IdeaPad 3 Core i3 11th Gen - (8 GB/256 ...</td>\n",
       "      <td>4.2</td>\n",
       "      <td>₹36,990</td>\n",
       "      <td>Intel Core i3 Processor (11th Gen)8 GB DDR4 RA...</td>\n",
       "    </tr>\n",
       "    <tr>\n",
       "      <th>1</th>\n",
       "      <td>Lenovo IdeaPad 3 Core i3 11th Gen - (8 GB/512 ...</td>\n",
       "      <td>4.2</td>\n",
       "      <td>₹39,990</td>\n",
       "      <td>Intel Core i3 Processor (11th Gen)8 GB DDR4 RA...</td>\n",
       "    </tr>\n",
       "    <tr>\n",
       "      <th>2</th>\n",
       "      <td>ASUS VivoBook 15 (2022) Core i3 10th Gen - (8 ...</td>\n",
       "      <td>4.3</td>\n",
       "      <td>₹32,990</td>\n",
       "      <td>Intel Core i3 Processor (10th Gen)8 GB DDR4 RA...</td>\n",
       "    </tr>\n",
       "    <tr>\n",
       "      <th>3</th>\n",
       "      <td>HP Pavilion Ryzen 5 Hexa Core AMD R5-5600H - (...</td>\n",
       "      <td>4.4</td>\n",
       "      <td>₹49,990</td>\n",
       "      <td>AMD Ryzen 5 Hexa Core Processor8 GB DDR4 RAM64...</td>\n",
       "    </tr>\n",
       "    <tr>\n",
       "      <th>4</th>\n",
       "      <td>ASUS TUF Gaming F15 Core i5 10th Gen - (8 GB/5...</td>\n",
       "      <td>4.4</td>\n",
       "      <td>₹49,990</td>\n",
       "      <td>Intel Core i5 Processor (10th Gen)8 GB DDR4 RA...</td>\n",
       "    </tr>\n",
       "  </tbody>\n",
       "</table>\n",
       "</div>"
      ],
      "text/plain": [
       "                                             Product  Rating      MRP  \\\n",
       "0  Lenovo IdeaPad 3 Core i3 11th Gen - (8 GB/256 ...     4.2  ₹36,990   \n",
       "1  Lenovo IdeaPad 3 Core i3 11th Gen - (8 GB/512 ...     4.2  ₹39,990   \n",
       "2  ASUS VivoBook 15 (2022) Core i3 10th Gen - (8 ...     4.3  ₹32,990   \n",
       "3  HP Pavilion Ryzen 5 Hexa Core AMD R5-5600H - (...     4.4  ₹49,990   \n",
       "4  ASUS TUF Gaming F15 Core i5 10th Gen - (8 GB/5...     4.4  ₹49,990   \n",
       "\n",
       "                                             Feature  \n",
       "0  Intel Core i3 Processor (11th Gen)8 GB DDR4 RA...  \n",
       "1  Intel Core i3 Processor (11th Gen)8 GB DDR4 RA...  \n",
       "2  Intel Core i3 Processor (10th Gen)8 GB DDR4 RA...  \n",
       "3  AMD Ryzen 5 Hexa Core Processor8 GB DDR4 RAM64...  \n",
       "4  Intel Core i5 Processor (10th Gen)8 GB DDR4 RA...  "
      ]
     },
     "execution_count": 2,
     "metadata": {},
     "output_type": "execute_result"
    }
   ],
   "source": [
    "df=pd.read_csv(\"laptop_details.csv\")\n",
    "df.head()"
   ]
  },
  {
   "cell_type": "code",
   "execution_count": 3,
   "id": "a3aea776",
   "metadata": {},
   "outputs": [
    {
     "data": {
      "text/plain": [
       "(720, 4)"
      ]
     },
     "execution_count": 3,
     "metadata": {},
     "output_type": "execute_result"
    }
   ],
   "source": [
    "df.shape"
   ]
  },
  {
   "cell_type": "markdown",
   "id": "86f9894b",
   "metadata": {},
   "source": [
    "## Step 2:"
   ]
  },
  {
   "cell_type": "code",
   "execution_count": 4,
   "id": "ef8b09cf",
   "metadata": {},
   "outputs": [
    {
     "name": "stdout",
     "output_type": "stream",
     "text": [
      "<class 'pandas.core.frame.DataFrame'>\n",
      "RangeIndex: 720 entries, 0 to 719\n",
      "Data columns (total 4 columns):\n",
      " #   Column   Non-Null Count  Dtype  \n",
      "---  ------   --------------  -----  \n",
      " 0   Product  720 non-null    object \n",
      " 1   Rating   581 non-null    float64\n",
      " 2   MRP      720 non-null    object \n",
      " 3   Feature  720 non-null    object \n",
      "dtypes: float64(1), object(3)\n",
      "memory usage: 22.6+ KB\n"
     ]
    }
   ],
   "source": [
    "df.info()"
   ]
  },
  {
   "cell_type": "code",
   "execution_count": 5,
   "id": "9c4fece2",
   "metadata": {},
   "outputs": [
    {
     "data": {
      "text/plain": [
       "Index(['Product', 'Rating', 'MRP', 'Feature'], dtype='object')"
      ]
     },
     "execution_count": 5,
     "metadata": {},
     "output_type": "execute_result"
    }
   ],
   "source": [
    "df.columns"
   ]
  },
  {
   "cell_type": "code",
   "execution_count": 6,
   "id": "7f45e4da",
   "metadata": {},
   "outputs": [],
   "source": [
    "if df[\"MRP\"].dtype == object:\n",
    "    df[\"MRP\"] = df[\"MRP\"].str.replace('₹','').str.replace(',','')\n",
    "df[\"MRP\"] = df[\"MRP\"].astype(float)\n"
   ]
  },
  {
   "cell_type": "code",
   "execution_count": 7,
   "id": "6c1a3447",
   "metadata": {},
   "outputs": [
    {
     "data": {
      "text/html": [
       "<div>\n",
       "<style scoped>\n",
       "    .dataframe tbody tr th:only-of-type {\n",
       "        vertical-align: middle;\n",
       "    }\n",
       "\n",
       "    .dataframe tbody tr th {\n",
       "        vertical-align: top;\n",
       "    }\n",
       "\n",
       "    .dataframe thead th {\n",
       "        text-align: right;\n",
       "    }\n",
       "</style>\n",
       "<table border=\"1\" class=\"dataframe\">\n",
       "  <thead>\n",
       "    <tr style=\"text-align: right;\">\n",
       "      <th></th>\n",
       "      <th>Product</th>\n",
       "      <th>Rating</th>\n",
       "      <th>MRP</th>\n",
       "      <th>Feature</th>\n",
       "    </tr>\n",
       "  </thead>\n",
       "  <tbody>\n",
       "    <tr>\n",
       "      <th>0</th>\n",
       "      <td>Lenovo IdeaPad 3 Core i3 11th Gen - (8 GB/256 ...</td>\n",
       "      <td>4.2</td>\n",
       "      <td>36990.0</td>\n",
       "      <td>Intel Core i3 Processor (11th Gen)8 GB DDR4 RA...</td>\n",
       "    </tr>\n",
       "    <tr>\n",
       "      <th>1</th>\n",
       "      <td>Lenovo IdeaPad 3 Core i3 11th Gen - (8 GB/512 ...</td>\n",
       "      <td>4.2</td>\n",
       "      <td>39990.0</td>\n",
       "      <td>Intel Core i3 Processor (11th Gen)8 GB DDR4 RA...</td>\n",
       "    </tr>\n",
       "    <tr>\n",
       "      <th>2</th>\n",
       "      <td>ASUS VivoBook 15 (2022) Core i3 10th Gen - (8 ...</td>\n",
       "      <td>4.3</td>\n",
       "      <td>32990.0</td>\n",
       "      <td>Intel Core i3 Processor (10th Gen)8 GB DDR4 RA...</td>\n",
       "    </tr>\n",
       "    <tr>\n",
       "      <th>3</th>\n",
       "      <td>HP Pavilion Ryzen 5 Hexa Core AMD R5-5600H - (...</td>\n",
       "      <td>4.4</td>\n",
       "      <td>49990.0</td>\n",
       "      <td>AMD Ryzen 5 Hexa Core Processor8 GB DDR4 RAM64...</td>\n",
       "    </tr>\n",
       "    <tr>\n",
       "      <th>4</th>\n",
       "      <td>ASUS TUF Gaming F15 Core i5 10th Gen - (8 GB/5...</td>\n",
       "      <td>4.4</td>\n",
       "      <td>49990.0</td>\n",
       "      <td>Intel Core i5 Processor (10th Gen)8 GB DDR4 RA...</td>\n",
       "    </tr>\n",
       "  </tbody>\n",
       "</table>\n",
       "</div>"
      ],
      "text/plain": [
       "                                             Product  Rating      MRP  \\\n",
       "0  Lenovo IdeaPad 3 Core i3 11th Gen - (8 GB/256 ...     4.2  36990.0   \n",
       "1  Lenovo IdeaPad 3 Core i3 11th Gen - (8 GB/512 ...     4.2  39990.0   \n",
       "2  ASUS VivoBook 15 (2022) Core i3 10th Gen - (8 ...     4.3  32990.0   \n",
       "3  HP Pavilion Ryzen 5 Hexa Core AMD R5-5600H - (...     4.4  49990.0   \n",
       "4  ASUS TUF Gaming F15 Core i5 10th Gen - (8 GB/5...     4.4  49990.0   \n",
       "\n",
       "                                             Feature  \n",
       "0  Intel Core i3 Processor (11th Gen)8 GB DDR4 RA...  \n",
       "1  Intel Core i3 Processor (11th Gen)8 GB DDR4 RA...  \n",
       "2  Intel Core i3 Processor (10th Gen)8 GB DDR4 RA...  \n",
       "3  AMD Ryzen 5 Hexa Core Processor8 GB DDR4 RAM64...  \n",
       "4  Intel Core i5 Processor (10th Gen)8 GB DDR4 RA...  "
      ]
     },
     "execution_count": 7,
     "metadata": {},
     "output_type": "execute_result"
    }
   ],
   "source": [
    "df.head()"
   ]
  },
  {
   "cell_type": "code",
   "execution_count": 8,
   "id": "7432c17d",
   "metadata": {},
   "outputs": [
    {
     "name": "stdout",
     "output_type": "stream",
     "text": [
      "<class 'pandas.core.frame.DataFrame'>\n",
      "RangeIndex: 720 entries, 0 to 719\n",
      "Data columns (total 4 columns):\n",
      " #   Column   Non-Null Count  Dtype  \n",
      "---  ------   --------------  -----  \n",
      " 0   Product  720 non-null    object \n",
      " 1   Rating   581 non-null    float64\n",
      " 2   MRP      720 non-null    float64\n",
      " 3   Feature  720 non-null    object \n",
      "dtypes: float64(2), object(2)\n",
      "memory usage: 22.6+ KB\n"
     ]
    }
   ],
   "source": [
    "df.info()"
   ]
  },
  {
   "cell_type": "markdown",
   "id": "9b564be3",
   "metadata": {},
   "source": [
    "## Step 3:"
   ]
  },
  {
   "cell_type": "markdown",
   "id": "a5b5ff95",
   "metadata": {},
   "source": [
    "### Feature Extraction:"
   ]
  },
  {
   "cell_type": "code",
   "execution_count": 9,
   "id": "e8f24506",
   "metadata": {},
   "outputs": [
    {
     "data": {
      "text/html": [
       "<div>\n",
       "<style scoped>\n",
       "    .dataframe tbody tr th:only-of-type {\n",
       "        vertical-align: middle;\n",
       "    }\n",
       "\n",
       "    .dataframe tbody tr th {\n",
       "        vertical-align: top;\n",
       "    }\n",
       "\n",
       "    .dataframe thead th {\n",
       "        text-align: right;\n",
       "    }\n",
       "</style>\n",
       "<table border=\"1\" class=\"dataframe\">\n",
       "  <thead>\n",
       "    <tr style=\"text-align: right;\">\n",
       "      <th></th>\n",
       "      <th>Product</th>\n",
       "      <th>Rating</th>\n",
       "      <th>MRP</th>\n",
       "      <th>Feature</th>\n",
       "    </tr>\n",
       "  </thead>\n",
       "  <tbody>\n",
       "    <tr>\n",
       "      <th>0</th>\n",
       "      <td>Lenovo IdeaPad 3 Core i3 11th Gen - (8 GB/256 ...</td>\n",
       "      <td>4.2</td>\n",
       "      <td>36990.0</td>\n",
       "      <td>Intel Core i3 Processor (11th Gen)8 GB DDR4 RA...</td>\n",
       "    </tr>\n",
       "    <tr>\n",
       "      <th>1</th>\n",
       "      <td>Lenovo IdeaPad 3 Core i3 11th Gen - (8 GB/512 ...</td>\n",
       "      <td>4.2</td>\n",
       "      <td>39990.0</td>\n",
       "      <td>Intel Core i3 Processor (11th Gen)8 GB DDR4 RA...</td>\n",
       "    </tr>\n",
       "    <tr>\n",
       "      <th>2</th>\n",
       "      <td>ASUS VivoBook 15 (2022) Core i3 10th Gen - (8 ...</td>\n",
       "      <td>4.3</td>\n",
       "      <td>32990.0</td>\n",
       "      <td>Intel Core i3 Processor (10th Gen)8 GB DDR4 RA...</td>\n",
       "    </tr>\n",
       "    <tr>\n",
       "      <th>3</th>\n",
       "      <td>HP Pavilion Ryzen 5 Hexa Core AMD R5-5600H - (...</td>\n",
       "      <td>4.4</td>\n",
       "      <td>49990.0</td>\n",
       "      <td>AMD Ryzen 5 Hexa Core Processor8 GB DDR4 RAM64...</td>\n",
       "    </tr>\n",
       "    <tr>\n",
       "      <th>4</th>\n",
       "      <td>ASUS TUF Gaming F15 Core i5 10th Gen - (8 GB/5...</td>\n",
       "      <td>4.4</td>\n",
       "      <td>49990.0</td>\n",
       "      <td>Intel Core i5 Processor (10th Gen)8 GB DDR4 RA...</td>\n",
       "    </tr>\n",
       "  </tbody>\n",
       "</table>\n",
       "</div>"
      ],
      "text/plain": [
       "                                             Product  Rating      MRP  \\\n",
       "0  Lenovo IdeaPad 3 Core i3 11th Gen - (8 GB/256 ...     4.2  36990.0   \n",
       "1  Lenovo IdeaPad 3 Core i3 11th Gen - (8 GB/512 ...     4.2  39990.0   \n",
       "2  ASUS VivoBook 15 (2022) Core i3 10th Gen - (8 ...     4.3  32990.0   \n",
       "3  HP Pavilion Ryzen 5 Hexa Core AMD R5-5600H - (...     4.4  49990.0   \n",
       "4  ASUS TUF Gaming F15 Core i5 10th Gen - (8 GB/5...     4.4  49990.0   \n",
       "\n",
       "                                             Feature  \n",
       "0  Intel Core i3 Processor (11th Gen)8 GB DDR4 RA...  \n",
       "1  Intel Core i3 Processor (11th Gen)8 GB DDR4 RA...  \n",
       "2  Intel Core i3 Processor (10th Gen)8 GB DDR4 RA...  \n",
       "3  AMD Ryzen 5 Hexa Core Processor8 GB DDR4 RAM64...  \n",
       "4  Intel Core i5 Processor (10th Gen)8 GB DDR4 RA...  "
      ]
     },
     "execution_count": 9,
     "metadata": {},
     "output_type": "execute_result"
    }
   ],
   "source": [
    "df.head()"
   ]
  },
  {
   "cell_type": "code",
   "execution_count": 10,
   "id": "de280760",
   "metadata": {},
   "outputs": [],
   "source": [
    "# Creating new columns by extraction of \"Product column\""
   ]
  },
  {
   "cell_type": "code",
   "execution_count": 11,
   "id": "0745c91c",
   "metadata": {},
   "outputs": [],
   "source": [
    "## Created a new column \"Brand\"\n",
    "\n",
    "df['Brand'] = df['Product'].apply(lambda x: x.split(\" \")[0])     "
   ]
  },
  {
   "cell_type": "code",
   "execution_count": 12,
   "id": "90af58b6",
   "metadata": {},
   "outputs": [],
   "source": [
    "# Created a column RAM_TYPE\n",
    "\n",
    "regex_ram_type = r'(DDR[0-9L]*|LPDDR[0-9X]*)'\n",
    "\n",
    "def extract_ram_type(text):\n",
    "    match = re.search(regex_ram_type, text, re.IGNORECASE)\n",
    "    if match:\n",
    "        return match.group(0)\n",
    "    else:\n",
    "        return None\n",
    "\n",
    "df['RAM_Type'] = df['Feature'].apply(extract_ram_type)"
   ]
  },
  {
   "cell_type": "code",
   "execution_count": 13,
   "id": "fa6e3a4f",
   "metadata": {},
   "outputs": [],
   "source": [
    "#Create a column \"RAM_SIZE\"\n",
    "\n",
    "df['RAM_Size'] = df['Feature'].apply(lambda x: int(re.findall(r'\\d+', x.split('DDR')[0])[-1]))"
   ]
  },
  {
   "cell_type": "code",
   "execution_count": 14,
   "id": "7bc7399c",
   "metadata": {},
   "outputs": [],
   "source": [
    "#Created a new column \"STORAGE\"\n",
    "\n",
    "df['Storage'] = df['Feature'].apply(lambda x: int(re.findall(r'\\d+', x.split('SSD')[0])[-1]))\n",
    "     "
   ]
  },
  {
   "cell_type": "code",
   "execution_count": 15,
   "id": "11856b92",
   "metadata": {},
   "outputs": [],
   "source": [
    "# Create a new column \"DISK TYPE\"\n",
    "\n",
    "df['Disk_Type'] = df['Product'].apply(lambda x:'HDD' if 'HDD' in x else 'SSD' )\n",
    "     "
   ]
  },
  {
   "cell_type": "code",
   "execution_count": 16,
   "id": "b5d4a460",
   "metadata": {},
   "outputs": [
    {
     "data": {
      "text/html": [
       "<div>\n",
       "<style scoped>\n",
       "    .dataframe tbody tr th:only-of-type {\n",
       "        vertical-align: middle;\n",
       "    }\n",
       "\n",
       "    .dataframe tbody tr th {\n",
       "        vertical-align: top;\n",
       "    }\n",
       "\n",
       "    .dataframe thead th {\n",
       "        text-align: right;\n",
       "    }\n",
       "</style>\n",
       "<table border=\"1\" class=\"dataframe\">\n",
       "  <thead>\n",
       "    <tr style=\"text-align: right;\">\n",
       "      <th></th>\n",
       "      <th>Product</th>\n",
       "      <th>Rating</th>\n",
       "      <th>MRP</th>\n",
       "      <th>Feature</th>\n",
       "      <th>Brand</th>\n",
       "      <th>RAM_Type</th>\n",
       "      <th>RAM_Size</th>\n",
       "      <th>Storage</th>\n",
       "      <th>Disk_Type</th>\n",
       "    </tr>\n",
       "  </thead>\n",
       "  <tbody>\n",
       "    <tr>\n",
       "      <th>0</th>\n",
       "      <td>Lenovo IdeaPad 3 Core i3 11th Gen - (8 GB/256 ...</td>\n",
       "      <td>4.2</td>\n",
       "      <td>36990.0</td>\n",
       "      <td>Intel Core i3 Processor (11th Gen)8 GB DDR4 RA...</td>\n",
       "      <td>Lenovo</td>\n",
       "      <td>DDR4</td>\n",
       "      <td>8</td>\n",
       "      <td>256</td>\n",
       "      <td>SSD</td>\n",
       "    </tr>\n",
       "    <tr>\n",
       "      <th>1</th>\n",
       "      <td>Lenovo IdeaPad 3 Core i3 11th Gen - (8 GB/512 ...</td>\n",
       "      <td>4.2</td>\n",
       "      <td>39990.0</td>\n",
       "      <td>Intel Core i3 Processor (11th Gen)8 GB DDR4 RA...</td>\n",
       "      <td>Lenovo</td>\n",
       "      <td>DDR4</td>\n",
       "      <td>8</td>\n",
       "      <td>512</td>\n",
       "      <td>SSD</td>\n",
       "    </tr>\n",
       "    <tr>\n",
       "      <th>2</th>\n",
       "      <td>ASUS VivoBook 15 (2022) Core i3 10th Gen - (8 ...</td>\n",
       "      <td>4.3</td>\n",
       "      <td>32990.0</td>\n",
       "      <td>Intel Core i3 Processor (10th Gen)8 GB DDR4 RA...</td>\n",
       "      <td>ASUS</td>\n",
       "      <td>DDR4</td>\n",
       "      <td>8</td>\n",
       "      <td>512</td>\n",
       "      <td>SSD</td>\n",
       "    </tr>\n",
       "    <tr>\n",
       "      <th>3</th>\n",
       "      <td>HP Pavilion Ryzen 5 Hexa Core AMD R5-5600H - (...</td>\n",
       "      <td>4.4</td>\n",
       "      <td>49990.0</td>\n",
       "      <td>AMD Ryzen 5 Hexa Core Processor8 GB DDR4 RAM64...</td>\n",
       "      <td>HP</td>\n",
       "      <td>DDR4</td>\n",
       "      <td>8</td>\n",
       "      <td>512</td>\n",
       "      <td>SSD</td>\n",
       "    </tr>\n",
       "    <tr>\n",
       "      <th>4</th>\n",
       "      <td>ASUS TUF Gaming F15 Core i5 10th Gen - (8 GB/5...</td>\n",
       "      <td>4.4</td>\n",
       "      <td>49990.0</td>\n",
       "      <td>Intel Core i5 Processor (10th Gen)8 GB DDR4 RA...</td>\n",
       "      <td>ASUS</td>\n",
       "      <td>DDR4</td>\n",
       "      <td>8</td>\n",
       "      <td>512</td>\n",
       "      <td>SSD</td>\n",
       "    </tr>\n",
       "  </tbody>\n",
       "</table>\n",
       "</div>"
      ],
      "text/plain": [
       "                                             Product  Rating      MRP  \\\n",
       "0  Lenovo IdeaPad 3 Core i3 11th Gen - (8 GB/256 ...     4.2  36990.0   \n",
       "1  Lenovo IdeaPad 3 Core i3 11th Gen - (8 GB/512 ...     4.2  39990.0   \n",
       "2  ASUS VivoBook 15 (2022) Core i3 10th Gen - (8 ...     4.3  32990.0   \n",
       "3  HP Pavilion Ryzen 5 Hexa Core AMD R5-5600H - (...     4.4  49990.0   \n",
       "4  ASUS TUF Gaming F15 Core i5 10th Gen - (8 GB/5...     4.4  49990.0   \n",
       "\n",
       "                                             Feature   Brand RAM_Type  \\\n",
       "0  Intel Core i3 Processor (11th Gen)8 GB DDR4 RA...  Lenovo     DDR4   \n",
       "1  Intel Core i3 Processor (11th Gen)8 GB DDR4 RA...  Lenovo     DDR4   \n",
       "2  Intel Core i3 Processor (10th Gen)8 GB DDR4 RA...    ASUS     DDR4   \n",
       "3  AMD Ryzen 5 Hexa Core Processor8 GB DDR4 RAM64...      HP     DDR4   \n",
       "4  Intel Core i5 Processor (10th Gen)8 GB DDR4 RA...    ASUS     DDR4   \n",
       "\n",
       "   RAM_Size  Storage Disk_Type  \n",
       "0         8      256       SSD  \n",
       "1         8      512       SSD  \n",
       "2         8      512       SSD  \n",
       "3         8      512       SSD  \n",
       "4         8      512       SSD  "
      ]
     },
     "execution_count": 16,
     "metadata": {},
     "output_type": "execute_result"
    }
   ],
   "source": [
    "df.head()"
   ]
  },
  {
   "cell_type": "code",
   "execution_count": 17,
   "id": "cf8c3035",
   "metadata": {},
   "outputs": [],
   "source": [
    "## Creating new columns from \"Feature Column\""
   ]
  },
  {
   "cell_type": "code",
   "execution_count": 18,
   "id": "091bf586",
   "metadata": {},
   "outputs": [],
   "source": [
    "#Created anothe new column\"OS_Type\" \n",
    "\n",
    "df[\"OS_Type\"] = df[\"Feature\"].apply(lambda x: 'Windows' if 'Windows' in x else'Mac OS' if 'Mac OS' in x else 'Others')"
   ]
  },
  {
   "cell_type": "code",
   "execution_count": 19,
   "id": "75accc97",
   "metadata": {},
   "outputs": [],
   "source": [
    "## Create new column \"Processor\"\n",
    "\n",
    "regex_processor = r'(?:Intel|AMD)\\s+[A-Za-z\\d]+'\n",
    "\n",
    "def extract_processor(text):\n",
    "    match = re.search(regex_processor, text, re.IGNORECASE)\n",
    "    if match:\n",
    "        return match.group()\n",
    "    else:\n",
    "        return None\n",
    "\n",
    "df[\"Processor\"] = df[\"Feature\"].apply(extract_processor)"
   ]
  },
  {
   "cell_type": "code",
   "execution_count": 20,
   "id": "27dc0dcb",
   "metadata": {},
   "outputs": [
    {
     "data": {
      "text/plain": [
       "<bound method Series.unique of 0         Intel Core\n",
       "1         Intel Core\n",
       "2         Intel Core\n",
       "3          AMD Ryzen\n",
       "4         Intel Core\n",
       "           ...      \n",
       "715    Intel Celeron\n",
       "716        AMD Ryzen\n",
       "717        AMD Ryzen\n",
       "718       Intel Core\n",
       "719       Intel Core\n",
       "Name: Processor, Length: 720, dtype: object>"
      ]
     },
     "execution_count": 20,
     "metadata": {},
     "output_type": "execute_result"
    }
   ],
   "source": [
    "df[\"Processor\"].unique"
   ]
  },
  {
   "cell_type": "code",
   "execution_count": 21,
   "id": "1806d3c4",
   "metadata": {},
   "outputs": [
    {
     "data": {
      "text/plain": [
       "Intel Core       355\n",
       "AMD Ryzen        307\n",
       "Intel Celeron     23\n",
       "Intel Pentium      5\n",
       "Intel i3           3\n",
       "AMD Athlon         2\n",
       "Intel Evo          2\n",
       "Intel PQC          1\n",
       "AMD Dual           1\n",
       "Intel i7           1\n",
       "Name: Processor, dtype: int64"
      ]
     },
     "execution_count": 21,
     "metadata": {},
     "output_type": "execute_result"
    }
   ],
   "source": [
    "df[\"Processor\"].value_counts()"
   ]
  },
  {
   "cell_type": "code",
   "execution_count": 22,
   "id": "416c1195",
   "metadata": {},
   "outputs": [
    {
     "data": {
      "text/html": [
       "<div>\n",
       "<style scoped>\n",
       "    .dataframe tbody tr th:only-of-type {\n",
       "        vertical-align: middle;\n",
       "    }\n",
       "\n",
       "    .dataframe tbody tr th {\n",
       "        vertical-align: top;\n",
       "    }\n",
       "\n",
       "    .dataframe thead th {\n",
       "        text-align: right;\n",
       "    }\n",
       "</style>\n",
       "<table border=\"1\" class=\"dataframe\">\n",
       "  <thead>\n",
       "    <tr style=\"text-align: right;\">\n",
       "      <th></th>\n",
       "      <th>Product</th>\n",
       "      <th>Rating</th>\n",
       "      <th>MRP</th>\n",
       "      <th>Feature</th>\n",
       "      <th>Brand</th>\n",
       "      <th>RAM_Type</th>\n",
       "      <th>RAM_Size</th>\n",
       "      <th>Storage</th>\n",
       "      <th>Disk_Type</th>\n",
       "      <th>OS_Type</th>\n",
       "      <th>Processor</th>\n",
       "    </tr>\n",
       "  </thead>\n",
       "  <tbody>\n",
       "    <tr>\n",
       "      <th>0</th>\n",
       "      <td>Lenovo IdeaPad 3 Core i3 11th Gen - (8 GB/256 ...</td>\n",
       "      <td>4.2</td>\n",
       "      <td>36990.0</td>\n",
       "      <td>Intel Core i3 Processor (11th Gen)8 GB DDR4 RA...</td>\n",
       "      <td>Lenovo</td>\n",
       "      <td>DDR4</td>\n",
       "      <td>8</td>\n",
       "      <td>256</td>\n",
       "      <td>SSD</td>\n",
       "      <td>Windows</td>\n",
       "      <td>Intel Core</td>\n",
       "    </tr>\n",
       "    <tr>\n",
       "      <th>1</th>\n",
       "      <td>Lenovo IdeaPad 3 Core i3 11th Gen - (8 GB/512 ...</td>\n",
       "      <td>4.2</td>\n",
       "      <td>39990.0</td>\n",
       "      <td>Intel Core i3 Processor (11th Gen)8 GB DDR4 RA...</td>\n",
       "      <td>Lenovo</td>\n",
       "      <td>DDR4</td>\n",
       "      <td>8</td>\n",
       "      <td>512</td>\n",
       "      <td>SSD</td>\n",
       "      <td>Windows</td>\n",
       "      <td>Intel Core</td>\n",
       "    </tr>\n",
       "    <tr>\n",
       "      <th>2</th>\n",
       "      <td>ASUS VivoBook 15 (2022) Core i3 10th Gen - (8 ...</td>\n",
       "      <td>4.3</td>\n",
       "      <td>32990.0</td>\n",
       "      <td>Intel Core i3 Processor (10th Gen)8 GB DDR4 RA...</td>\n",
       "      <td>ASUS</td>\n",
       "      <td>DDR4</td>\n",
       "      <td>8</td>\n",
       "      <td>512</td>\n",
       "      <td>SSD</td>\n",
       "      <td>Windows</td>\n",
       "      <td>Intel Core</td>\n",
       "    </tr>\n",
       "    <tr>\n",
       "      <th>3</th>\n",
       "      <td>HP Pavilion Ryzen 5 Hexa Core AMD R5-5600H - (...</td>\n",
       "      <td>4.4</td>\n",
       "      <td>49990.0</td>\n",
       "      <td>AMD Ryzen 5 Hexa Core Processor8 GB DDR4 RAM64...</td>\n",
       "      <td>HP</td>\n",
       "      <td>DDR4</td>\n",
       "      <td>8</td>\n",
       "      <td>512</td>\n",
       "      <td>SSD</td>\n",
       "      <td>Windows</td>\n",
       "      <td>AMD Ryzen</td>\n",
       "    </tr>\n",
       "    <tr>\n",
       "      <th>4</th>\n",
       "      <td>ASUS TUF Gaming F15 Core i5 10th Gen - (8 GB/5...</td>\n",
       "      <td>4.4</td>\n",
       "      <td>49990.0</td>\n",
       "      <td>Intel Core i5 Processor (10th Gen)8 GB DDR4 RA...</td>\n",
       "      <td>ASUS</td>\n",
       "      <td>DDR4</td>\n",
       "      <td>8</td>\n",
       "      <td>512</td>\n",
       "      <td>SSD</td>\n",
       "      <td>Windows</td>\n",
       "      <td>Intel Core</td>\n",
       "    </tr>\n",
       "  </tbody>\n",
       "</table>\n",
       "</div>"
      ],
      "text/plain": [
       "                                             Product  Rating      MRP  \\\n",
       "0  Lenovo IdeaPad 3 Core i3 11th Gen - (8 GB/256 ...     4.2  36990.0   \n",
       "1  Lenovo IdeaPad 3 Core i3 11th Gen - (8 GB/512 ...     4.2  39990.0   \n",
       "2  ASUS VivoBook 15 (2022) Core i3 10th Gen - (8 ...     4.3  32990.0   \n",
       "3  HP Pavilion Ryzen 5 Hexa Core AMD R5-5600H - (...     4.4  49990.0   \n",
       "4  ASUS TUF Gaming F15 Core i5 10th Gen - (8 GB/5...     4.4  49990.0   \n",
       "\n",
       "                                             Feature   Brand RAM_Type  \\\n",
       "0  Intel Core i3 Processor (11th Gen)8 GB DDR4 RA...  Lenovo     DDR4   \n",
       "1  Intel Core i3 Processor (11th Gen)8 GB DDR4 RA...  Lenovo     DDR4   \n",
       "2  Intel Core i3 Processor (10th Gen)8 GB DDR4 RA...    ASUS     DDR4   \n",
       "3  AMD Ryzen 5 Hexa Core Processor8 GB DDR4 RAM64...      HP     DDR4   \n",
       "4  Intel Core i5 Processor (10th Gen)8 GB DDR4 RA...    ASUS     DDR4   \n",
       "\n",
       "   RAM_Size  Storage Disk_Type  OS_Type   Processor  \n",
       "0         8      256       SSD  Windows  Intel Core  \n",
       "1         8      512       SSD  Windows  Intel Core  \n",
       "2         8      512       SSD  Windows  Intel Core  \n",
       "3         8      512       SSD  Windows   AMD Ryzen  \n",
       "4         8      512       SSD  Windows  Intel Core  "
      ]
     },
     "execution_count": 22,
     "metadata": {},
     "output_type": "execute_result"
    }
   ],
   "source": [
    "df.head()"
   ]
  },
  {
   "cell_type": "code",
   "execution_count": 23,
   "id": "0f113dcd",
   "metadata": {},
   "outputs": [
    {
     "data": {
      "text/plain": [
       "(720, 11)"
      ]
     },
     "execution_count": 23,
     "metadata": {},
     "output_type": "execute_result"
    }
   ],
   "source": [
    "df.shape"
   ]
  },
  {
   "cell_type": "markdown",
   "id": "8d8d8ed4",
   "metadata": {},
   "source": [
    "## Step 4:"
   ]
  },
  {
   "cell_type": "markdown",
   "id": "433839bd",
   "metadata": {},
   "source": [
    "### Data Analysis:"
   ]
  },
  {
   "cell_type": "code",
   "execution_count": 24,
   "id": "bb382e41",
   "metadata": {},
   "outputs": [
    {
     "data": {
      "text/html": [
       "<div>\n",
       "<style scoped>\n",
       "    .dataframe tbody tr th:only-of-type {\n",
       "        vertical-align: middle;\n",
       "    }\n",
       "\n",
       "    .dataframe tbody tr th {\n",
       "        vertical-align: top;\n",
       "    }\n",
       "\n",
       "    .dataframe thead th {\n",
       "        text-align: right;\n",
       "    }\n",
       "</style>\n",
       "<table border=\"1\" class=\"dataframe\">\n",
       "  <thead>\n",
       "    <tr style=\"text-align: right;\">\n",
       "      <th></th>\n",
       "      <th>MRP</th>\n",
       "      <th>Brand</th>\n",
       "      <th>RAM_Type</th>\n",
       "      <th>RAM_Size</th>\n",
       "      <th>Storage</th>\n",
       "      <th>Disk_Type</th>\n",
       "      <th>OS_Type</th>\n",
       "      <th>Processor</th>\n",
       "    </tr>\n",
       "  </thead>\n",
       "  <tbody>\n",
       "    <tr>\n",
       "      <th>0</th>\n",
       "      <td>36990.0</td>\n",
       "      <td>Lenovo</td>\n",
       "      <td>DDR4</td>\n",
       "      <td>8</td>\n",
       "      <td>256</td>\n",
       "      <td>SSD</td>\n",
       "      <td>Windows</td>\n",
       "      <td>Intel Core</td>\n",
       "    </tr>\n",
       "    <tr>\n",
       "      <th>1</th>\n",
       "      <td>39990.0</td>\n",
       "      <td>Lenovo</td>\n",
       "      <td>DDR4</td>\n",
       "      <td>8</td>\n",
       "      <td>512</td>\n",
       "      <td>SSD</td>\n",
       "      <td>Windows</td>\n",
       "      <td>Intel Core</td>\n",
       "    </tr>\n",
       "    <tr>\n",
       "      <th>2</th>\n",
       "      <td>32990.0</td>\n",
       "      <td>ASUS</td>\n",
       "      <td>DDR4</td>\n",
       "      <td>8</td>\n",
       "      <td>512</td>\n",
       "      <td>SSD</td>\n",
       "      <td>Windows</td>\n",
       "      <td>Intel Core</td>\n",
       "    </tr>\n",
       "    <tr>\n",
       "      <th>3</th>\n",
       "      <td>49990.0</td>\n",
       "      <td>HP</td>\n",
       "      <td>DDR4</td>\n",
       "      <td>8</td>\n",
       "      <td>512</td>\n",
       "      <td>SSD</td>\n",
       "      <td>Windows</td>\n",
       "      <td>AMD Ryzen</td>\n",
       "    </tr>\n",
       "    <tr>\n",
       "      <th>4</th>\n",
       "      <td>49990.0</td>\n",
       "      <td>ASUS</td>\n",
       "      <td>DDR4</td>\n",
       "      <td>8</td>\n",
       "      <td>512</td>\n",
       "      <td>SSD</td>\n",
       "      <td>Windows</td>\n",
       "      <td>Intel Core</td>\n",
       "    </tr>\n",
       "  </tbody>\n",
       "</table>\n",
       "</div>"
      ],
      "text/plain": [
       "       MRP   Brand RAM_Type  RAM_Size  Storage Disk_Type  OS_Type   Processor\n",
       "0  36990.0  Lenovo     DDR4         8      256       SSD  Windows  Intel Core\n",
       "1  39990.0  Lenovo     DDR4         8      512       SSD  Windows  Intel Core\n",
       "2  32990.0    ASUS     DDR4         8      512       SSD  Windows  Intel Core\n",
       "3  49990.0      HP     DDR4         8      512       SSD  Windows   AMD Ryzen\n",
       "4  49990.0    ASUS     DDR4         8      512       SSD  Windows  Intel Core"
      ]
     },
     "execution_count": 24,
     "metadata": {},
     "output_type": "execute_result"
    }
   ],
   "source": [
    "new_df = df[['MRP','Brand','RAM_Type','RAM_Size','Storage','Disk_Type','OS_Type','Processor']]\n",
    "new_df.head()"
   ]
  },
  {
   "cell_type": "code",
   "execution_count": 25,
   "id": "d03e3d30",
   "metadata": {},
   "outputs": [
    {
     "data": {
      "text/plain": [
       "(720, 8)"
      ]
     },
     "execution_count": 25,
     "metadata": {},
     "output_type": "execute_result"
    }
   ],
   "source": [
    "new_df.shape"
   ]
  },
  {
   "cell_type": "code",
   "execution_count": 26,
   "id": "2dc8759c",
   "metadata": {},
   "outputs": [
    {
     "data": {
      "text/plain": [
       "Index(['MRP', 'RAM_Size', 'Storage'], dtype='object')"
      ]
     },
     "execution_count": 26,
     "metadata": {},
     "output_type": "execute_result"
    }
   ],
   "source": [
    "num_col=new_df.describe().columns\n",
    "num_col"
   ]
  },
  {
   "cell_type": "code",
   "execution_count": 27,
   "id": "3ea7d03b",
   "metadata": {},
   "outputs": [
    {
     "data": {
      "text/plain": [
       "Index(['Brand', 'RAM_Type', 'Disk_Type', 'OS_Type', 'Processor'], dtype='object')"
      ]
     },
     "execution_count": 27,
     "metadata": {},
     "output_type": "execute_result"
    }
   ],
   "source": [
    "cat_col=new_df.select_dtypes(include=[object])\n",
    "cat_col.columns"
   ]
  },
  {
   "cell_type": "code",
   "execution_count": 28,
   "id": "cfcac7bf",
   "metadata": {},
   "outputs": [],
   "source": [
    "### Univariate Analysis:\n",
    "## Num_column"
   ]
  },
  {
   "cell_type": "code",
   "execution_count": 29,
   "id": "67e14431",
   "metadata": {},
   "outputs": [
    {
     "data": {
      "text/plain": [
       "Index(['MRP', 'RAM_Size', 'Storage'], dtype='object')"
      ]
     },
     "execution_count": 29,
     "metadata": {},
     "output_type": "execute_result"
    }
   ],
   "source": [
    "num_col"
   ]
  },
  {
   "cell_type": "markdown",
   "id": "7946e29b",
   "metadata": {},
   "source": [
    "### MRP"
   ]
  },
  {
   "cell_type": "code",
   "execution_count": 30,
   "id": "57fe54e6",
   "metadata": {},
   "outputs": [
    {
     "data": {
      "text/plain": [
       "434830.0"
      ]
     },
     "execution_count": 30,
     "metadata": {},
     "output_type": "execute_result"
    }
   ],
   "source": [
    "new_df[\"MRP\"].max()"
   ]
  },
  {
   "cell_type": "code",
   "execution_count": 31,
   "id": "7a1b2f2e",
   "metadata": {},
   "outputs": [
    {
     "data": {
      "text/plain": [
       "14990.0"
      ]
     },
     "execution_count": 31,
     "metadata": {},
     "output_type": "execute_result"
    }
   ],
   "source": [
    "new_df[\"MRP\"].min()"
   ]
  },
  {
   "cell_type": "code",
   "execution_count": 32,
   "id": "d7d1ed8a",
   "metadata": {},
   "outputs": [
    {
     "data": {
      "text/plain": [
       "81605.8375"
      ]
     },
     "execution_count": 32,
     "metadata": {},
     "output_type": "execute_result"
    }
   ],
   "source": [
    "new_df[\"MRP\"].mean()"
   ]
  },
  {
   "cell_type": "code",
   "execution_count": 33,
   "id": "4ef81ad3",
   "metadata": {},
   "outputs": [
    {
     "data": {
      "text/plain": [
       "59990.0"
      ]
     },
     "execution_count": 33,
     "metadata": {},
     "output_type": "execute_result"
    }
   ],
   "source": [
    "new_df[\"MRP\"].median()"
   ]
  },
  {
   "cell_type": "code",
   "execution_count": 34,
   "id": "74d65556",
   "metadata": {},
   "outputs": [
    {
     "data": {
      "text/plain": [
       "<AxesSubplot:>"
      ]
     },
     "execution_count": 34,
     "metadata": {},
     "output_type": "execute_result"
    },
    {
     "data": {
      "image/png": "[encoded data removed]",
      "text/plain": [
       "<Figure size 720x432 with 1 Axes>"
      ]
     },
     "metadata": {
      "needs_background": "light"
     },
     "output_type": "display_data"
    }
   ],
   "source": [
    "df[\"MRP\"].plot(kind=\"box\", figsize=(10,6))"
   ]
  },
  {
   "cell_type": "code",
   "execution_count": 35,
   "id": "2d6f8777",
   "metadata": {},
   "outputs": [
    {
     "data": {
      "image/png": "[encoded data removed]",
      "text/plain": [
       "<Figure size 720x432 with 1 Axes>"
      ]
     },
     "metadata": {
      "needs_background": "light"
     },
     "output_type": "display_data"
    }
   ],
   "source": [
    "plt.figure(figsize=(10,6))\n",
    "sns.distplot(new_df[\"MRP\"],rug=True)\n",
    "plt.title(\"MRP_Distribution\")\n",
    "plt.show()"
   ]
  },
  {
   "cell_type": "code",
   "execution_count": null,
   "id": "eae39582",
   "metadata": {},
   "outputs": [],
   "source": []
  },
  {
   "cell_type": "markdown",
   "id": "1e3a286d",
   "metadata": {},
   "source": [
    "### RAM_Size"
   ]
  },
  {
   "cell_type": "code",
   "execution_count": 36,
   "id": "95d34460",
   "metadata": {},
   "outputs": [
    {
     "data": {
      "text/plain": [
       "32"
      ]
     },
     "execution_count": 36,
     "metadata": {},
     "output_type": "execute_result"
    }
   ],
   "source": [
    "new_df[\"RAM_Size\"].max()"
   ]
  },
  {
   "cell_type": "code",
   "execution_count": 37,
   "id": "31647f29",
   "metadata": {},
   "outputs": [
    {
     "data": {
      "text/plain": [
       "1"
      ]
     },
     "execution_count": 37,
     "metadata": {},
     "output_type": "execute_result"
    }
   ],
   "source": [
    "new_df[\"RAM_Size\"].min()"
   ]
  },
  {
   "cell_type": "code",
   "execution_count": 38,
   "id": "310f8b9d",
   "metadata": {},
   "outputs": [
    {
     "data": {
      "text/plain": [
       "11.066666666666666"
      ]
     },
     "execution_count": 38,
     "metadata": {},
     "output_type": "execute_result"
    }
   ],
   "source": [
    "new_df[\"RAM_Size\"].mean()"
   ]
  },
  {
   "cell_type": "code",
   "execution_count": 39,
   "id": "477cfd67",
   "metadata": {},
   "outputs": [
    {
     "data": {
      "text/plain": [
       "8.0"
      ]
     },
     "execution_count": 39,
     "metadata": {},
     "output_type": "execute_result"
    }
   ],
   "source": [
    "new_df[\"RAM_Size\"].median()"
   ]
  },
  {
   "cell_type": "code",
   "execution_count": 40,
   "id": "485cd646",
   "metadata": {},
   "outputs": [
    {
     "data": {
      "text/plain": [
       "<AxesSubplot:>"
      ]
     },
     "execution_count": 40,
     "metadata": {},
     "output_type": "execute_result"
    },
    {
     "data": {
      "image/png": "[encoded data removed]",
      "text/plain": [
       "<Figure size 720x432 with 1 Axes>"
      ]
     },
     "metadata": {
      "needs_background": "light"
     },
     "output_type": "display_data"
    }
   ],
   "source": [
    "new_df[\"RAM_Size\"].plot(kind=\"box\",figsize=(10,6))"
   ]
  },
  {
   "cell_type": "code",
   "execution_count": 41,
   "id": "0430887b",
   "metadata": {},
   "outputs": [
    {
     "data": {
      "image/png": "[encoded data removed]",
      "text/plain": [
       "<Figure size 720x432 with 1 Axes>"
      ]
     },
     "metadata": {
      "needs_background": "light"
     },
     "output_type": "display_data"
    }
   ],
   "source": [
    "plt.figure(figsize=(10,6))\n",
    "sns.distplot(new_df[\"RAM_Size\"],rug=True)\n",
    "plt.title(\"RAM_Size_Distribution\")\n",
    "plt.show()"
   ]
  },
  {
   "cell_type": "code",
   "execution_count": null,
   "id": "607522db",
   "metadata": {},
   "outputs": [],
   "source": []
  },
  {
   "cell_type": "markdown",
   "id": "1ceb44b2",
   "metadata": {},
   "source": [
    "### Storage"
   ]
  },
  {
   "cell_type": "code",
   "execution_count": 42,
   "id": "dcc2ebdc",
   "metadata": {},
   "outputs": [
    {
     "data": {
      "text/plain": [
       "20211"
      ]
     },
     "execution_count": 42,
     "metadata": {},
     "output_type": "execute_result"
    }
   ],
   "source": [
    "new_df[\"Storage\"].max()"
   ]
  },
  {
   "cell_type": "code",
   "execution_count": 43,
   "id": "0a755ebb",
   "metadata": {},
   "outputs": [
    {
     "data": {
      "text/plain": [
       "1"
      ]
     },
     "execution_count": 43,
     "metadata": {},
     "output_type": "execute_result"
    }
   ],
   "source": [
    "new_df[\"Storage\"].min()"
   ]
  },
  {
   "cell_type": "code",
   "execution_count": 44,
   "id": "5141ab74",
   "metadata": {},
   "outputs": [
    {
     "data": {
      "text/plain": [
       "398.475"
      ]
     },
     "execution_count": 44,
     "metadata": {},
     "output_type": "execute_result"
    }
   ],
   "source": [
    "new_df[\"Storage\"].mean()"
   ]
  },
  {
   "cell_type": "code",
   "execution_count": 45,
   "id": "e095e1bb",
   "metadata": {},
   "outputs": [
    {
     "data": {
      "text/plain": [
       "512.0"
      ]
     },
     "execution_count": 45,
     "metadata": {},
     "output_type": "execute_result"
    }
   ],
   "source": [
    "new_df[\"Storage\"].median()"
   ]
  },
  {
   "cell_type": "code",
   "execution_count": 46,
   "id": "f887be81",
   "metadata": {},
   "outputs": [
    {
     "data": {
      "text/plain": [
       "<AxesSubplot:>"
      ]
     },
     "execution_count": 46,
     "metadata": {},
     "output_type": "execute_result"
    },
    {
     "data": {
      "image/png": "[encoded data removed]",
      "text/plain": [
       "<Figure size 720x432 with 1 Axes>"
      ]
     },
     "metadata": {
      "needs_background": "light"
     },
     "output_type": "display_data"
    }
   ],
   "source": [
    "new_df[\"Storage\"].plot(kind=\"box\",figsize=(10,6))"
   ]
  },
  {
   "cell_type": "code",
   "execution_count": 47,
   "id": "790f64e4",
   "metadata": {},
   "outputs": [
    {
     "data": {
      "image/png": "[encoded data removed]",
      "text/plain": [
       "<Figure size 720x432 with 1 Axes>"
      ]
     },
     "metadata": {
      "needs_background": "light"
     },
     "output_type": "display_data"
    }
   ],
   "source": [
    "plt.figure(figsize=(10,6))\n",
    "sns.distplot(new_df[\"Storage\"],rug=True)\n",
    "plt.title(\"Storage_Distribution\")\n",
    "plt.show()"
   ]
  },
  {
   "cell_type": "code",
   "execution_count": null,
   "id": "d1bef325",
   "metadata": {},
   "outputs": [],
   "source": []
  },
  {
   "cell_type": "code",
   "execution_count": 48,
   "id": "f6127950",
   "metadata": {},
   "outputs": [
    {
     "data": {
      "text/plain": [
       "Index(['Brand', 'RAM_Type', 'Disk_Type', 'OS_Type', 'Processor'], dtype='object')"
      ]
     },
     "execution_count": 48,
     "metadata": {},
     "output_type": "execute_result"
    }
   ],
   "source": [
    "## Categorical columns\n",
    "cat_col.columns"
   ]
  },
  {
   "cell_type": "markdown",
   "id": "6e8280a8",
   "metadata": {},
   "source": [
    "### Brand"
   ]
  },
  {
   "cell_type": "code",
   "execution_count": 49,
   "id": "38e209a7",
   "metadata": {},
   "outputs": [
    {
     "data": {
      "text/plain": [
       "<function matplotlib.pyplot.show(close=None, block=None)>"
      ]
     },
     "execution_count": 49,
     "metadata": {},
     "output_type": "execute_result"
    },
    {
     "data": {
      "image/png": "[encoded data removed]",
      "text/plain": [
       "<Figure size 1080x720 with 1 Axes>"
      ]
     },
     "metadata": {
      "needs_background": "light"
     },
     "output_type": "display_data"
    }
   ],
   "source": [
    "plt.figure(figsize=(15,10))\n",
    "sns.countplot(y=\"Brand\",data=new_df)\n",
    "plt.xticks(rotation=360)\n",
    "plt.show"
   ]
  },
  {
   "cell_type": "code",
   "execution_count": 50,
   "id": "75d57d06",
   "metadata": {},
   "outputs": [
    {
     "name": "stdout",
     "output_type": "stream",
     "text": [
      "maximum brand count: ASUS 251\n",
      "minimum brand count: Vaio 1\n",
      "average brand count: 0    ASUS\n",
      "dtype: object 0    1\n",
      "dtype: int64\n"
     ]
    }
   ],
   "source": [
    "print(\"maximum brand count:\",new_df[\"Brand\"].value_counts().idxmax(),new_df[\"Brand\"].value_counts().max())\n",
    "print(\"minimum brand count:\",new_df[\"Brand\"].value_counts().idxmin(),new_df[\"Brand\"].value_counts().min())\n",
    "print(\"average brand count:\",new_df[\"Brand\"].mode(),new_df[\"Brand\"].value_counts().mode())"
   ]
  },
  {
   "cell_type": "markdown",
   "id": "433a8e19",
   "metadata": {},
   "source": [
    "### Disk_Type"
   ]
  },
  {
   "cell_type": "code",
   "execution_count": 51,
   "id": "b015c010",
   "metadata": {},
   "outputs": [
    {
     "data": {
      "text/plain": [
       "<function matplotlib.pyplot.show(close=None, block=None)>"
      ]
     },
     "execution_count": 51,
     "metadata": {},
     "output_type": "execute_result"
    },
    {
     "data": {
      "image/png": "[encoded data removed]",
      "text/plain": [
       "<Figure size 432x288 with 1 Axes>"
      ]
     },
     "metadata": {
      "needs_background": "light"
     },
     "output_type": "display_data"
    }
   ],
   "source": [
    "plt.figure(figsize=(6,4))\n",
    "sns.countplot(x=\"Disk_Type\",data=new_df)\n",
    "plt.xticks(rotation=360)\n",
    "plt.show"
   ]
  },
  {
   "cell_type": "code",
   "execution_count": 52,
   "id": "ca07c96d",
   "metadata": {},
   "outputs": [
    {
     "name": "stdout",
     "output_type": "stream",
     "text": [
      "maximum count of Disk_Type: SSD 672\n",
      "mainimum count of Disk_Type: HDD 48\n"
     ]
    }
   ],
   "source": [
    "print(\"maximum count of Disk_Type:\",new_df[\"Disk_Type\"].value_counts().idxmax(),new_df[\"Disk_Type\"].value_counts().max())\n",
    "print(\"mainimum count of Disk_Type:\",new_df[\"Disk_Type\"].value_counts().idxmin(),new_df[\"Disk_Type\"].value_counts().min())"
   ]
  },
  {
   "cell_type": "markdown",
   "id": "31ff2466",
   "metadata": {},
   "source": [
    "### OS_Type"
   ]
  },
  {
   "cell_type": "code",
   "execution_count": 53,
   "id": "c0e4ec79",
   "metadata": {},
   "outputs": [
    {
     "data": {
      "text/plain": [
       "<function matplotlib.pyplot.show(close=None, block=None)>"
      ]
     },
     "execution_count": 53,
     "metadata": {},
     "output_type": "execute_result"
    },
    {
     "data": {
      "image/png": "[encoded data removed]",
      "text/plain": [
       "<Figure size 432x288 with 1 Axes>"
      ]
     },
     "metadata": {
      "needs_background": "light"
     },
     "output_type": "display_data"
    }
   ],
   "source": [
    "plt.figure(figsize=(6,4))\n",
    "sns.countplot(x=\"OS_Type\",data=new_df)\n",
    "plt.xticks(rotation=360)\n",
    "plt.show"
   ]
  },
  {
   "cell_type": "code",
   "execution_count": 54,
   "id": "bc269a0c",
   "metadata": {},
   "outputs": [
    {
     "name": "stdout",
     "output_type": "stream",
     "text": [
      "maximum count of OS_Type: Windows 690\n",
      "mainimum count of OS_Type: Others 11\n"
     ]
    }
   ],
   "source": [
    "print(\"maximum count of OS_Type:\",new_df[\"OS_Type\"].value_counts().idxmax(),new_df[\"OS_Type\"].value_counts().max())\n",
    "print(\"mainimum count of OS_Type:\",new_df[\"OS_Type\"].value_counts().idxmin(),new_df[\"OS_Type\"].value_counts().min())"
   ]
  },
  {
   "cell_type": "code",
   "execution_count": 55,
   "id": "29bfff16",
   "metadata": {},
   "outputs": [
    {
     "data": {
      "text/plain": [
       "Windows    690\n",
       "Mac OS      19\n",
       "Others      11\n",
       "Name: OS_Type, dtype: int64"
      ]
     },
     "execution_count": 55,
     "metadata": {},
     "output_type": "execute_result"
    }
   ],
   "source": [
    "new_df[\"OS_Type\"].value_counts()"
   ]
  },
  {
   "cell_type": "markdown",
   "id": "d7dff149",
   "metadata": {},
   "source": [
    "### RAM_Type"
   ]
  },
  {
   "cell_type": "code",
   "execution_count": 56,
   "id": "caf09b40",
   "metadata": {},
   "outputs": [
    {
     "data": {
      "text/plain": [
       "<function matplotlib.pyplot.show(close=None, block=None)>"
      ]
     },
     "execution_count": 56,
     "metadata": {},
     "output_type": "execute_result"
    },
    {
     "data": {
      "image/png": "[encoded data removed]",
      "text/plain": [
       "<Figure size 720x432 with 1 Axes>"
      ]
     },
     "metadata": {
      "needs_background": "light"
     },
     "output_type": "display_data"
    }
   ],
   "source": [
    "plt.figure(figsize=(10,6))\n",
    "sns.countplot(y=\"RAM_Type\",data=new_df)\n",
    "plt.xticks(rotation=360)\n",
    "plt.show"
   ]
  },
  {
   "cell_type": "code",
   "execution_count": 57,
   "id": "ac1e441f",
   "metadata": {},
   "outputs": [
    {
     "name": "stdout",
     "output_type": "stream",
     "text": [
      "maximum count of RAM_Type: DDR4 561\n",
      "\n",
      "minimum count of RAM_Type: LPDDR3 1\n",
      "\n",
      "average count of RAM_Type: 0    DDR4\n",
      "dtype: object\n"
     ]
    }
   ],
   "source": [
    "print(\"maximum count of RAM_Type:\",new_df[\"RAM_Type\"].value_counts().idxmax(),new_df[\"RAM_Type\"].value_counts().max())\n",
    "print()\n",
    "print(\"minimum count of RAM_Type:\",new_df[\"RAM_Type\"].value_counts().idxmin(),new_df[\"RAM_Type\"].value_counts().min())\n",
    "print()\n",
    "print(\"average count of RAM_Type:\",new_df[\"RAM_Type\"].mode())"
   ]
  },
  {
   "cell_type": "markdown",
   "id": "808d4a81",
   "metadata": {},
   "source": [
    "### Processor"
   ]
  },
  {
   "cell_type": "code",
   "execution_count": 58,
   "id": "7e7ea882",
   "metadata": {},
   "outputs": [
    {
     "data": {
      "text/plain": [
       "<function matplotlib.pyplot.show(close=None, block=None)>"
      ]
     },
     "execution_count": 58,
     "metadata": {},
     "output_type": "execute_result"
    },
    {
     "data": {
      "image/png": "[encoded data removed]",
      "text/plain": [
       "<Figure size 1080x576 with 1 Axes>"
      ]
     },
     "metadata": {
      "needs_background": "light"
     },
     "output_type": "display_data"
    }
   ],
   "source": [
    "plt.figure(figsize=(15,8))\n",
    "sns.countplot(y=\"Processor\",data=new_df)\n",
    "plt.xticks(rotation=45)\n",
    "plt.show"
   ]
  },
  {
   "cell_type": "code",
   "execution_count": 59,
   "id": "772dd89b",
   "metadata": {},
   "outputs": [
    {
     "name": "stdout",
     "output_type": "stream",
     "text": [
      "maximum Processor count: Intel Core 355\n",
      "\n",
      "minimum Processor count: Intel PQC 1\n",
      "\n",
      "average Processor count: 0    Intel Core\n",
      "dtype: object\n"
     ]
    }
   ],
   "source": [
    "print(\"maximum Processor count:\",new_df[\"Processor\"].value_counts().idxmax(),new_df[\"Processor\"].value_counts().max())\n",
    "print()\n",
    "print(\"minimum Processor count:\",new_df[\"Processor\"].value_counts().idxmin(),new_df[\"Processor\"].value_counts().min())\n",
    "print()\n",
    "print(\"average Processor count:\",new_df[\"Processor\"].mode())"
   ]
  },
  {
   "cell_type": "markdown",
   "id": "31d66dbf",
   "metadata": {},
   "source": [
    "### Bivariate Analysis"
   ]
  },
  {
   "cell_type": "code",
   "execution_count": 60,
   "id": "26744812",
   "metadata": {},
   "outputs": [
    {
     "data": {
      "text/plain": [
       "Index(['MRP', 'Brand', 'RAM_Type', 'RAM_Size', 'Storage', 'Disk_Type',\n",
       "       'OS_Type', 'Processor'],\n",
       "      dtype='object')"
      ]
     },
     "execution_count": 60,
     "metadata": {},
     "output_type": "execute_result"
    }
   ],
   "source": [
    "new_df.columns"
   ]
  },
  {
   "cell_type": "code",
   "execution_count": 61,
   "id": "1a2c8f61",
   "metadata": {},
   "outputs": [],
   "source": [
    "### First check how the different Features are correlated with the price(MRP) using correlation matrix"
   ]
  },
  {
   "cell_type": "code",
   "execution_count": 62,
   "id": "009213e6",
   "metadata": {},
   "outputs": [
    {
     "data": {
      "text/html": [
       "<div>\n",
       "<style scoped>\n",
       "    .dataframe tbody tr th:only-of-type {\n",
       "        vertical-align: middle;\n",
       "    }\n",
       "\n",
       "    .dataframe tbody tr th {\n",
       "        vertical-align: top;\n",
       "    }\n",
       "\n",
       "    .dataframe thead th {\n",
       "        text-align: right;\n",
       "    }\n",
       "</style>\n",
       "<table border=\"1\" class=\"dataframe\">\n",
       "  <thead>\n",
       "    <tr style=\"text-align: right;\">\n",
       "      <th></th>\n",
       "      <th>MRP</th>\n",
       "      <th>RAM_Size</th>\n",
       "      <th>Storage</th>\n",
       "    </tr>\n",
       "  </thead>\n",
       "  <tbody>\n",
       "    <tr>\n",
       "      <th>MRP</th>\n",
       "      <td>1.000000</td>\n",
       "      <td>0.700065</td>\n",
       "      <td>-0.144640</td>\n",
       "    </tr>\n",
       "    <tr>\n",
       "      <th>RAM_Size</th>\n",
       "      <td>0.700065</td>\n",
       "      <td>1.000000</td>\n",
       "      <td>-0.121379</td>\n",
       "    </tr>\n",
       "    <tr>\n",
       "      <th>Storage</th>\n",
       "      <td>-0.144640</td>\n",
       "      <td>-0.121379</td>\n",
       "      <td>1.000000</td>\n",
       "    </tr>\n",
       "  </tbody>\n",
       "</table>\n",
       "</div>"
      ],
      "text/plain": [
       "               MRP  RAM_Size   Storage\n",
       "MRP       1.000000  0.700065 -0.144640\n",
       "RAM_Size  0.700065  1.000000 -0.121379\n",
       "Storage  -0.144640 -0.121379  1.000000"
      ]
     },
     "execution_count": 62,
     "metadata": {},
     "output_type": "execute_result"
    }
   ],
   "source": [
    "new_df.corr()        ## Since,corelation gives statistical measure hence the correlation only between numerical columns."
   ]
  },
  {
   "cell_type": "code",
   "execution_count": 63,
   "id": "4eada402",
   "metadata": {},
   "outputs": [
    {
     "data": {
      "image/png": "[encoded data removed]",
      "text/plain": [
       "<Figure size 800x640 with 2 Axes>"
      ]
     },
     "metadata": {
      "needs_background": "light"
     },
     "output_type": "display_data"
    }
   ],
   "source": [
    "plt.figure(figsize=(10,8), dpi= 80)\n",
    "sns.heatmap(new_df.corr(), cmap='Oranges', annot=True)\n",
    "plt.title('Co-Relation between Laptop Features', fontsize=16)         \n",
    "plt.xticks(fontsize= 14, rotation = 90)\n",
    "plt.yticks(fontsize= 14)\n",
    "plt.show()"
   ]
  },
  {
   "cell_type": "markdown",
   "id": "9c01c4c6",
   "metadata": {},
   "source": [
    "1.)RAM_Size explains 70% of the variation in MRP.There is a strong linear relationship between MRP and RAM_Size, where changes     in RAM_Size can explain 70% of the variability in MRP i,e RAM_Size has the largest impact on MRP among the variables being       considered."
   ]
  },
  {
   "cell_type": "markdown",
   "id": "fe3af377",
   "metadata": {},
   "source": [
    "#### MRP VS RAM_Size"
   ]
  },
  {
   "cell_type": "code",
   "execution_count": 64,
   "id": "e43e8961",
   "metadata": {},
   "outputs": [
    {
     "data": {
      "image/png": "[encoded data removed]",
      "text/plain": [
       "<Figure size 1080x720 with 1 Axes>"
      ]
     },
     "metadata": {
      "needs_background": "light"
     },
     "output_type": "display_data"
    }
   ],
   "source": [
    "plt.figure(figsize=(15,10))\n",
    "sns.scatterplot(y=\"MRP\",x=\"RAM_Size\",data=new_df)\n",
    "plt.title(\"MRP VS RAM_Size\",fontsize=16)\n",
    "plt.xticks(fontsize=14,rotation=360)\n",
    "plt.yticks(fontsize=14)\n",
    "plt.ylabel(\"MRP\",fontsize=14)\n",
    "plt.xlabel(\"RAM_Size\",fontsize=14)\n",
    "plt.show()"
   ]
  },
  {
   "cell_type": "raw",
   "id": "abd8d781",
   "metadata": {},
   "source": [
    "According to the above analysis, we found that the pricing of the laptop mostly depends on the \"Window\" OS and \"RAM_Size\".\n",
    "\n",
    "[1].Among the consumers being considered, a majority of them use the Windows operating system.\n",
    "\n",
    "[2].More the RAM_Size more the price.RAM_Size increases, the price also tends to increase.Hence, Pricing works on RAM_Size.\n",
    "\n"
   ]
  },
  {
   "cell_type": "code",
   "execution_count": null,
   "id": "56fd13ca",
   "metadata": {},
   "outputs": [],
   "source": []
  },
  {
   "cell_type": "code",
   "execution_count": null,
   "id": "7f9044e4",
   "metadata": {},
   "outputs": [],
   "source": []
  },
  {
   "cell_type": "code",
   "execution_count": null,
   "id": "b3487e8b",
   "metadata": {},
   "outputs": [],
   "source": []
  }
 ],
 "metadata": {
  "kernelspec": {
   "display_name": "Python 3 (ipykernel)",
   "language": "python",
   "name": "python3"
  },
  "language_info": {
   "codemirror_mode": {
    "name": "ipython",
    "version": 3
   },
   "file_extension": ".py",
   "mimetype": "text/x-python",
   "name": "python",
   "nbconvert_exporter": "python",
   "pygments_lexer": "ipython3",
   "version": "3.9.7"
  }
 },
 "nbformat": 4,
 "nbformat_minor": 5
}
